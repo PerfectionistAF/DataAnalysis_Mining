{
 "cells": [
  {
   "cell_type": "code",
   "execution_count": 1,
   "id": "f01955d8",
   "metadata": {},
   "outputs": [],
   "source": [
    "import numpy as np\n",
    "import pandas as pd\n",
    "from sklearn.impute import SimpleImputer"
   ]
  },
  {
   "cell_type": "markdown",
   "id": "5f763da9",
   "metadata": {},
   "source": [
    "# Fill Missing Data Example"
   ]
  },
  {
   "cell_type": "code",
   "execution_count": 6,
   "id": "0371d7c7",
   "metadata": {},
   "outputs": [],
   "source": [
    "#Dataset as a dataframe: create a set of lists\n",
    "DataFrame = pd.DataFrame({'team':['A','A','A','A', np.nan, 'B', 'B', 'B'], 'position':['G','G','F','G','F','G','C','C'], \n",
    "                          'age':[21,22,21.5,50,60,np.nan,46,70],\n",
    "                          'salary':[5000, 10000, 4000, 3000, 6000, 1000, 2000, 8000]})"
   ]
  },
  {
   "cell_type": "code",
   "execution_count": 7,
   "id": "bc2ab24f",
   "metadata": {},
   "outputs": [
    {
     "name": "stdout",
     "output_type": "stream",
     "text": [
      "['age', 'salary']\n"
     ]
    }
   ],
   "source": [
    "#Numerical Features printed as a list of features\n",
    "Numerical_Features = DataFrame.select_dtypes(exclude = ['object']).columns.tolist()\n",
    "print(Numerical_Features)"
   ]
  },
  {
   "cell_type": "code",
   "execution_count": 9,
   "id": "6aad442e",
   "metadata": {},
   "outputs": [
    {
     "name": "stdout",
     "output_type": "stream",
     "text": [
      "    age  salary\n",
      "0  21.0    5000\n",
      "1  22.0   10000\n",
      "2  21.5    4000\n",
      "3  50.0    3000\n",
      "4  60.0    6000\n",
      "5   NaN    1000\n",
      "6  46.0    2000\n",
      "7  70.0    8000\n"
     ]
    }
   ],
   "source": [
    "#printed as a list\n",
    "dataframe_n = DataFrame[Numerical_Features]\n",
    "print(dataframe_n)"
   ]
  },
  {
   "cell_type": "code",
   "execution_count": 10,
   "id": "92cc4b53",
   "metadata": {},
   "outputs": [
    {
     "name": "stdout",
     "output_type": "stream",
     "text": [
      "[[   21.   5000. ]\n",
      " [   22.  10000. ]\n",
      " [   21.5  4000. ]\n",
      " [   50.   3000. ]\n",
      " [   60.   6000. ]\n",
      " [   41.5  1000. ]\n",
      " [   46.   2000. ]\n",
      " [   70.   8000. ]]\n"
     ]
    }
   ],
   "source": [
    "#Now we fill in the missing data\n",
    "imp_mean = SimpleImputer(missing_values = np.nan , strategy = 'mean')\n",
    "imp_mean.fit(dataframe_n)\n",
    "dataframe_n = imp_mean.transform(dataframe_n)\n",
    "print(dataframe_n)"
   ]
  },
  {
   "cell_type": "code",
   "execution_count": 12,
   "id": "0d64e154",
   "metadata": {},
   "outputs": [
    {
     "name": "stdout",
     "output_type": "stream",
     "text": [
      "['team', 'position']\n"
     ]
    }
   ],
   "source": [
    "#Categorical Features\n",
    "Categorical_Features = DataFrame.select_dtypes(include = ['object']).columns.tolist()\n",
    "print(Categorical_Features)"
   ]
  },
  {
   "cell_type": "code",
   "execution_count": 13,
   "id": "3c986023",
   "metadata": {},
   "outputs": [
    {
     "name": "stdout",
     "output_type": "stream",
     "text": [
      "  team position\n",
      "0    A        G\n",
      "1    A        G\n",
      "2    A        F\n",
      "3    A        G\n",
      "4  NaN        F\n",
      "5    B        G\n",
      "6    B        C\n",
      "7    B        C\n"
     ]
    }
   ],
   "source": [
    "dataframe_c = DataFrame[Categorical_Features]\n",
    "print(dataframe_c)"
   ]
  },
  {
   "cell_type": "code",
   "execution_count": 15,
   "id": "baf2250d",
   "metadata": {},
   "outputs": [
    {
     "name": "stdout",
     "output_type": "stream",
     "text": [
      "[['A' 'G']\n",
      " ['A' 'G']\n",
      " ['A' 'F']\n",
      " ['A' 'G']\n",
      " ['A' 'F']\n",
      " ['B' 'G']\n",
      " ['B' 'C']\n",
      " ['B' 'C']]\n"
     ]
    }
   ],
   "source": [
    "imp_mean = SimpleImputer(missing_values = np.nan, strategy = 'most_frequent')\n",
    "imp_mean.fit(dataframe_c)\n",
    "dataframe_c = imp_mean.transform(dataframe_c)\n",
    "print(dataframe_c)"
   ]
  },
  {
   "cell_type": "code",
   "execution_count": 16,
   "id": "2de1784d",
   "metadata": {},
   "outputs": [],
   "source": [
    "DataFrame[Numerical_Features] = dataframe_n\n",
    "DataFrame[Categorical_Features] = dataframe_c"
   ]
  },
  {
   "cell_type": "markdown",
   "id": "5895d5fc",
   "metadata": {},
   "source": [
    "# Data Transformation"
   ]
  },
  {
   "cell_type": "markdown",
   "id": "b1b6645b",
   "metadata": {},
   "source": [
    "## Discretisation"
   ]
  },
  {
   "cell_type": "code",
   "execution_count": 17,
   "id": "5eab717c",
   "metadata": {},
   "outputs": [],
   "source": [
    "import numpy as np\n",
    "import pandas as pd\n",
    "from sklearn.preprocessing import KBinsDiscretizer"
   ]
  },
  {
   "cell_type": "code",
   "execution_count": 18,
   "id": "38267e1b",
   "metadata": {},
   "outputs": [],
   "source": [
    "DataFrame2 = pd.DataFrame({'team':['A','A','A','A', 'B', 'B', 'B', 'B'], 'position':['G','G','F','G','F','G','C','C'], \n",
    "                          'age':[21,22,21.5,50,60,40,46,70],\n",
    "                          'salary':[5000, 10000, 4000, 3000, 6000, 1000, 2000, 8000]})"
   ]
  },
  {
   "cell_type": "code",
   "execution_count": 39,
   "id": "bbef897e",
   "metadata": {},
   "outputs": [
    {
     "name": "stdout",
     "output_type": "stream",
     "text": [
      "    age  salary\n",
      "0  21.0    5000\n",
      "1  22.0   10000\n",
      "2  21.5    4000\n",
      "3  50.0    3000\n",
      "4  60.0    6000\n",
      "5  40.0    1000\n",
      "6  46.0    2000\n",
      "7  70.0    8000\n"
     ]
    }
   ],
   "source": [
    "Categorical_Features_2 = DataFrame2.select_dtypes(exclude = ['object']).columns.tolist()\n",
    "dataframe_c_2 = DataFrame2[Categorical_Features_2]\n",
    "print(dataframe_c_2)"
   ]
  },
  {
   "cell_type": "code",
   "execution_count": 40,
   "id": "4d0cf64d",
   "metadata": {},
   "outputs": [
    {
     "name": "stdout",
     "output_type": "stream",
     "text": [
      "[array([21.        , 37.33333333, 53.66666667, 70.        ])\n",
      " array([ 1000.,  4000.,  7000., 10000.])]\n"
     ]
    }
   ],
   "source": [
    "est = KBinsDiscretizer(n_bins = 3, strategy = 'uniform', encode = 'ordinal')\n",
    "c = est.fit(dataframe_c_2)\n",
    "print(c.bin_edges_)"
   ]
  },
  {
   "cell_type": "code",
   "execution_count": 41,
   "id": "f81177a3",
   "metadata": {},
   "outputs": [
    {
     "name": "stdout",
     "output_type": "stream",
     "text": [
      "[[0. 1.]\n",
      " [0. 2.]\n",
      " [0. 1.]\n",
      " [1. 0.]\n",
      " [2. 1.]\n",
      " [1. 0.]\n",
      " [1. 0.]\n",
      " [2. 2.]]\n"
     ]
    }
   ],
   "source": [
    "dataframe_c_2 = est.transform(dataframe_c_2)\n",
    "print(dataframe_c_2)"
   ]
  },
  {
   "cell_type": "markdown",
   "id": "2371619b",
   "metadata": {},
   "source": [
    "## Normalisation"
   ]
  },
  {
   "cell_type": "code",
   "execution_count": 28,
   "id": "929b5e91",
   "metadata": {},
   "outputs": [],
   "source": [
    "from sklearn.preprocessing import MinMaxScaler"
   ]
  },
  {
   "cell_type": "code",
   "execution_count": 29,
   "id": "ffe7de83",
   "metadata": {},
   "outputs": [],
   "source": [
    "DataFrame2 = pd.DataFrame({'team':['A','A','A','A', 'B', 'B', 'B', 'B'], 'position':['G','G','F','G','F','G','C','C'], \n",
    "                          'age':[21,22,21.5,50,60,40,46,70],\n",
    "                          'salary':[5000, 10000, 4000, 3000, 6000, 1000, 2000, 8000]})"
   ]
  },
  {
   "cell_type": "code",
   "execution_count": 35,
   "id": "cf37da76",
   "metadata": {},
   "outputs": [
    {
     "name": "stdout",
     "output_type": "stream",
     "text": [
      "    age  salary\n",
      "0  21.0    5000\n",
      "1  22.0   10000\n",
      "2  21.5    4000\n",
      "3  50.0    3000\n",
      "4  60.0    6000\n",
      "5  40.0    1000\n",
      "6  46.0    2000\n",
      "7  70.0    8000\n"
     ]
    }
   ],
   "source": [
    "Numerical_Features_2 = DataFrame2.select_dtypes(exclude = ['object']).columns.tolist()\n",
    "dataframe_n_2 = DataFrame2[Numerical_Features_2]\n",
    "print(dataframe_n_2)"
   ]
  },
  {
   "cell_type": "code",
   "execution_count": 36,
   "id": "dcddc9be",
   "metadata": {},
   "outputs": [
    {
     "name": "stdout",
     "output_type": "stream",
     "text": [
      "[[0.         0.44444444]\n",
      " [0.02040816 1.        ]\n",
      " [0.01020408 0.33333333]\n",
      " [0.59183673 0.22222222]\n",
      " [0.79591837 0.55555556]\n",
      " [0.3877551  0.        ]\n",
      " [0.51020408 0.11111111]\n",
      " [1.         0.77777778]]\n"
     ]
    }
   ],
   "source": [
    "normaliser = MinMaxScaler(feature_range = (0,1))\n",
    "norm_data = normaliser.fit_transform(dataframe_n_2)\n",
    "print(norm_data)"
   ]
  },
  {
   "cell_type": "code",
   "execution_count": 44,
   "id": "c97b03f0",
   "metadata": {},
   "outputs": [
    {
     "name": "stdout",
     "output_type": "stream",
     "text": [
      "  team position       age    salary\n",
      "0    A        G  0.000000  0.444444\n",
      "1    A        G  0.020408  1.000000\n",
      "2    A        F  0.010204  0.333333\n",
      "3    A        G  0.591837  0.222222\n",
      "4    B        F  0.795918  0.555556\n",
      "5    B        G  0.387755  0.000000\n",
      "6    B        C  0.510204  0.111111\n",
      "7    B        C  1.000000  0.777778\n"
     ]
    }
   ],
   "source": [
    "DataFrame2[Numerical_Features_2] = norm_data\n",
    "print(DataFrame2)"
   ]
  },
  {
   "cell_type": "markdown",
   "id": "1bdae107",
   "metadata": {},
   "source": [
    "# HANDS ON"
   ]
  },
  {
   "cell_type": "code",
   "execution_count": null,
   "id": "9740572d",
   "metadata": {},
   "outputs": [],
   "source": [
    "import pandas as pd\n",
    "dataset = pd.read_csv(r'')\n",
    "print(dataset)"
   ]
  }
 ],
 "metadata": {
  "kernelspec": {
   "display_name": "Python 3 (ipykernel)",
   "language": "python",
   "name": "python3"
  },
  "language_info": {
   "codemirror_mode": {
    "name": "ipython",
    "version": 3
   },
   "file_extension": ".py",
   "mimetype": "text/x-python",
   "name": "python",
   "nbconvert_exporter": "python",
   "pygments_lexer": "ipython3",
   "version": "3.9.13"
  }
 },
 "nbformat": 4,
 "nbformat_minor": 5
}
